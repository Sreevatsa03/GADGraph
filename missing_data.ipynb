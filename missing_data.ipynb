{
 "cells": [
  {
   "cell_type": "code",
   "execution_count": 1,
   "metadata": {},
   "outputs": [],
   "source": [
    "# imports\n",
    "import pandas as pd"
   ]
  },
  {
   "cell_type": "code",
   "execution_count": 2,
   "metadata": {},
   "outputs": [],
   "source": [
    "# read in gad data\n",
    "gad = pd.read_csv('data/gad.csv')\n",
    "\n",
    "# read in genes\n",
    "genes = pd.read_csv('data/genes.csv')\n",
    "\n",
    "# read in diseases\n",
    "diseases = pd.read_csv('data/diseases.csv')\n"
   ]
  },
  {
   "cell_type": "code",
   "execution_count": 5,
   "metadata": {},
   "outputs": [
    {
     "name": "stdout",
     "output_type": "stream",
     "text": [
      "There are 1931 diseaseId's in gad that are not in diseases\n",
      "There are 0 geneId's in gad that are not in genes\n"
     ]
    }
   ],
   "source": [
    "# create list of all diseaseId in gad\n",
    "diseaseId = set(gad['diseaseId'].tolist())\n",
    "\n",
    "# create list of all geneId in gad\n",
    "geneId = set(gad['geneId'].tolist())\n",
    "\n",
    "# create list of all diseaseId in diseases\n",
    "diseaseId2 = set(diseases['diseaseId'].tolist())\n",
    "\n",
    "# create list of all geneId in genes\n",
    "geneId2 = set(genes['geneId'].tolist())\n",
    "\n",
    "# create list of all diseaseId in gad that are not in diseases\n",
    "missing_diseaseId = [x for x in diseaseId if x not in diseaseId2]\n",
    "\n",
    "# create list of all geneId in gad that are not in genes\n",
    "missing_geneId = [x for x in geneId if x not in geneId2]\n",
    "\n",
    "# print length of missing_diseaseId\n",
    "print(\"There are\", len(missing_diseaseId), \"diseaseId's in gad that are not in diseases\")\n",
    "\n",
    "# print length of missing_geneId\n",
    "print(\"There are\", len(missing_geneId), \"geneId's in gad that are not in genes\")"
   ]
  },
  {
   "cell_type": "code",
   "execution_count": 6,
   "metadata": {},
   "outputs": [],
   "source": [
    "# write missing_diseaseId to csv\n",
    "pd.DataFrame(missing_diseaseId).to_csv('data/missing_diseases.csv', index=False)"
   ]
  },
  {
   "cell_type": "code",
   "execution_count": null,
   "metadata": {},
   "outputs": [],
   "source": []
  }
 ],
 "metadata": {
  "kernelspec": {
   "display_name": "base",
   "language": "python",
   "name": "python3"
  },
  "language_info": {
   "codemirror_mode": {
    "name": "ipython",
    "version": 3
   },
   "file_extension": ".py",
   "mimetype": "text/x-python",
   "name": "python",
   "nbconvert_exporter": "python",
   "pygments_lexer": "ipython3",
   "version": "3.9.7"
  },
  "orig_nbformat": 4
 },
 "nbformat": 4,
 "nbformat_minor": 2
}
